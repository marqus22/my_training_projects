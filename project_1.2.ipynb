{
 "cells": [
  {
   "cell_type": "markdown",
   "id": "dfca61d8",
   "metadata": {},
   "source": [
    "# КОММЕНТАРИЙ РЕВЬЮВЕРА\n",
    "Привет Константин!)\n",
    "\n",
    "Меня зовут Сибирев Владислав, я осуществлял проверку проекта. Может перейдем сразу на <b>ты</b>? Если это неприемлемо, то обязательно дай знать)\n",
    "\n",
    "Далее по ходу работы ты сможешь встретить мои комментарии, они будут отмечены разными цветами:\n",
    "\n",
    "<div class=\"alert alert-block alert-success\">\n",
    " ✔️ Похвала и возможности развития\n",
    "</div>\n",
    "<div class=\"alert alert-block alert-warning\">\n",
    "⚠️ Некритичные замечания, но стоит обратить внимание\n",
    "</div>\n",
    "<div class=\"alert alert-block alert-danger\">\n",
    "❌ Грубая ошибка, необходимо исправить\n",
    "</div>\n",
    "\n",
    "\n",
    "Заранее прошу не удалять мои комментарии, это важно. Если у тебя возникнут вопросы, обозначь их, я с радостью тебе помогу!)\n",
    "\n",
    "Как вариант, можешь обозначить их так:\n",
    "<div class=\"alert alert-block alert-info\">\n",
    " Комментарий студента \n",
    "            </div>"
   ]
  },
  {
   "cell_type": "markdown",
   "id": "e2cfdc94",
   "metadata": {
    "deletable": false,
    "editable": false,
    "id": "c81daeeb"
   },
   "source": [
    "# Исследование надежности заемщиков\n"
   ]
  },
  {
   "cell_type": "markdown",
   "id": "18df6731",
   "metadata": {
    "deletable": false,
    "editable": false,
    "id": "827c20bf"
   },
   "source": [
    "Во второй части проекта вы выполните шаги 3 и 4. Их вручную проверит ревьюер.\n",
    "Чтобы вам не пришлось писать код заново для шагов 1 и 2, мы добавили авторские решения в ячейки с кодом. \n",
    "\n"
   ]
  },
  {
   "cell_type": "markdown",
   "id": "f67aa3b1",
   "metadata": {},
   "source": [
    "<div class=\"alert alert-block alert-success\">\n",
    "<b>Комментарий ревьюера:</b> \n",
    "\n",
    "✔️ Так как первая часть является автоматической, то я просто буду в ней давать рекомендации, которые ты можешь использовать в дальнейшем))<br>\n",
    "P.S. Любой проект нужно начинать с описания)) \n",
    "  </div>"
   ]
  },
  {
   "cell_type": "markdown",
   "id": "33648a66",
   "metadata": {
    "deletable": false,
    "editable": false,
    "id": "744d7639"
   },
   "source": [
    "## Откройте таблицу и изучите общую информацию о данных"
   ]
  },
  {
   "cell_type": "markdown",
   "id": "7fe66cf5",
   "metadata": {
    "deletable": false,
    "editable": false,
    "id": "e7a14c31"
   },
   "source": [
    "**Задание 1. Импортируйте библиотеку pandas. Считайте данные из csv-файла в датафрейм и сохраните в переменную `data`. Путь к файлу:**\n",
    "\n",
    "`/datasets/data.csv`"
   ]
  },
  {
   "cell_type": "code",
   "execution_count": 1,
   "id": "3f9f6b4f",
   "metadata": {
    "deletable": false,
    "id": "7bcf75c9"
   },
   "outputs": [],
   "source": [
    "import pandas as pd\n",
    "\n",
    "try:\n",
    "    data = pd.read_csv('/datasets/data.csv')\n",
    "except:\n",
    "    data = pd.read_csv('https://code.s3.yandex.net/datasets/data.csv')"
   ]
  },
  {
   "cell_type": "markdown",
   "id": "bdbdbaab",
   "metadata": {},
   "source": [
    "<div class=\"alert alert-block alert-success\">\n",
    "<b>Комментарий ревьюера:</b> \n",
    "\n",
    "✔️ Молодец, что используешь конструкцию __try и except__<br>\n",
    "P.S. Для следующих проектов нужно импортировать библиотеки в отдельной ячейке) Это позволяет быстро сориентироваться, что нужно для запуска проекта, если кто-то будет запускать его в другом окружении.\n",
    "  </div>"
   ]
  },
  {
   "cell_type": "markdown",
   "id": "c56a739f",
   "metadata": {
    "deletable": false,
    "editable": false,
    "id": "b8038fe3"
   },
   "source": [
    "**Задание 2. Выведите первые 20 строчек датафрейма `data` на экран.**"
   ]
  },
  {
   "cell_type": "code",
   "execution_count": 2,
   "id": "e856275d",
   "metadata": {
    "deletable": false,
    "id": "2a7cab99",
    "outputId": "1a8f3ef2-d323-4ec2-ddf7-89670b5944c4"
   },
   "outputs": [
    {
     "data": {
      "text/html": [
       "<div>\n",
       "<style scoped>\n",
       "    .dataframe tbody tr th:only-of-type {\n",
       "        vertical-align: middle;\n",
       "    }\n",
       "\n",
       "    .dataframe tbody tr th {\n",
       "        vertical-align: top;\n",
       "    }\n",
       "\n",
       "    .dataframe thead th {\n",
       "        text-align: right;\n",
       "    }\n",
       "</style>\n",
       "<table border=\"1\" class=\"dataframe\">\n",
       "  <thead>\n",
       "    <tr style=\"text-align: right;\">\n",
       "      <th></th>\n",
       "      <th>children</th>\n",
       "      <th>days_employed</th>\n",
       "      <th>dob_years</th>\n",
       "      <th>education</th>\n",
       "      <th>education_id</th>\n",
       "      <th>family_status</th>\n",
       "      <th>family_status_id</th>\n",
       "      <th>gender</th>\n",
       "      <th>income_type</th>\n",
       "      <th>debt</th>\n",
       "      <th>total_income</th>\n",
       "      <th>purpose</th>\n",
       "    </tr>\n",
       "  </thead>\n",
       "  <tbody>\n",
       "    <tr>\n",
       "      <th>0</th>\n",
       "      <td>1</td>\n",
       "      <td>-8437.673028</td>\n",
       "      <td>42</td>\n",
       "      <td>высшее</td>\n",
       "      <td>0</td>\n",
       "      <td>женат / замужем</td>\n",
       "      <td>0</td>\n",
       "      <td>F</td>\n",
       "      <td>сотрудник</td>\n",
       "      <td>0</td>\n",
       "      <td>253875.639453</td>\n",
       "      <td>покупка жилья</td>\n",
       "    </tr>\n",
       "    <tr>\n",
       "      <th>1</th>\n",
       "      <td>1</td>\n",
       "      <td>-4024.803754</td>\n",
       "      <td>36</td>\n",
       "      <td>среднее</td>\n",
       "      <td>1</td>\n",
       "      <td>женат / замужем</td>\n",
       "      <td>0</td>\n",
       "      <td>F</td>\n",
       "      <td>сотрудник</td>\n",
       "      <td>0</td>\n",
       "      <td>112080.014102</td>\n",
       "      <td>приобретение автомобиля</td>\n",
       "    </tr>\n",
       "    <tr>\n",
       "      <th>2</th>\n",
       "      <td>0</td>\n",
       "      <td>-5623.422610</td>\n",
       "      <td>33</td>\n",
       "      <td>Среднее</td>\n",
       "      <td>1</td>\n",
       "      <td>женат / замужем</td>\n",
       "      <td>0</td>\n",
       "      <td>M</td>\n",
       "      <td>сотрудник</td>\n",
       "      <td>0</td>\n",
       "      <td>145885.952297</td>\n",
       "      <td>покупка жилья</td>\n",
       "    </tr>\n",
       "    <tr>\n",
       "      <th>3</th>\n",
       "      <td>3</td>\n",
       "      <td>-4124.747207</td>\n",
       "      <td>32</td>\n",
       "      <td>среднее</td>\n",
       "      <td>1</td>\n",
       "      <td>женат / замужем</td>\n",
       "      <td>0</td>\n",
       "      <td>M</td>\n",
       "      <td>сотрудник</td>\n",
       "      <td>0</td>\n",
       "      <td>267628.550329</td>\n",
       "      <td>дополнительное образование</td>\n",
       "    </tr>\n",
       "    <tr>\n",
       "      <th>4</th>\n",
       "      <td>0</td>\n",
       "      <td>340266.072047</td>\n",
       "      <td>53</td>\n",
       "      <td>среднее</td>\n",
       "      <td>1</td>\n",
       "      <td>гражданский брак</td>\n",
       "      <td>1</td>\n",
       "      <td>F</td>\n",
       "      <td>пенсионер</td>\n",
       "      <td>0</td>\n",
       "      <td>158616.077870</td>\n",
       "      <td>сыграть свадьбу</td>\n",
       "    </tr>\n",
       "    <tr>\n",
       "      <th>5</th>\n",
       "      <td>0</td>\n",
       "      <td>-926.185831</td>\n",
       "      <td>27</td>\n",
       "      <td>высшее</td>\n",
       "      <td>0</td>\n",
       "      <td>гражданский брак</td>\n",
       "      <td>1</td>\n",
       "      <td>M</td>\n",
       "      <td>компаньон</td>\n",
       "      <td>0</td>\n",
       "      <td>255763.565419</td>\n",
       "      <td>покупка жилья</td>\n",
       "    </tr>\n",
       "    <tr>\n",
       "      <th>6</th>\n",
       "      <td>0</td>\n",
       "      <td>-2879.202052</td>\n",
       "      <td>43</td>\n",
       "      <td>высшее</td>\n",
       "      <td>0</td>\n",
       "      <td>женат / замужем</td>\n",
       "      <td>0</td>\n",
       "      <td>F</td>\n",
       "      <td>компаньон</td>\n",
       "      <td>0</td>\n",
       "      <td>240525.971920</td>\n",
       "      <td>операции с жильем</td>\n",
       "    </tr>\n",
       "    <tr>\n",
       "      <th>7</th>\n",
       "      <td>0</td>\n",
       "      <td>-152.779569</td>\n",
       "      <td>50</td>\n",
       "      <td>СРЕДНЕЕ</td>\n",
       "      <td>1</td>\n",
       "      <td>женат / замужем</td>\n",
       "      <td>0</td>\n",
       "      <td>M</td>\n",
       "      <td>сотрудник</td>\n",
       "      <td>0</td>\n",
       "      <td>135823.934197</td>\n",
       "      <td>образование</td>\n",
       "    </tr>\n",
       "    <tr>\n",
       "      <th>8</th>\n",
       "      <td>2</td>\n",
       "      <td>-6929.865299</td>\n",
       "      <td>35</td>\n",
       "      <td>ВЫСШЕЕ</td>\n",
       "      <td>0</td>\n",
       "      <td>гражданский брак</td>\n",
       "      <td>1</td>\n",
       "      <td>F</td>\n",
       "      <td>сотрудник</td>\n",
       "      <td>0</td>\n",
       "      <td>95856.832424</td>\n",
       "      <td>на проведение свадьбы</td>\n",
       "    </tr>\n",
       "    <tr>\n",
       "      <th>9</th>\n",
       "      <td>0</td>\n",
       "      <td>-2188.756445</td>\n",
       "      <td>41</td>\n",
       "      <td>среднее</td>\n",
       "      <td>1</td>\n",
       "      <td>женат / замужем</td>\n",
       "      <td>0</td>\n",
       "      <td>M</td>\n",
       "      <td>сотрудник</td>\n",
       "      <td>0</td>\n",
       "      <td>144425.938277</td>\n",
       "      <td>покупка жилья для семьи</td>\n",
       "    </tr>\n",
       "    <tr>\n",
       "      <th>10</th>\n",
       "      <td>2</td>\n",
       "      <td>-4171.483647</td>\n",
       "      <td>36</td>\n",
       "      <td>высшее</td>\n",
       "      <td>0</td>\n",
       "      <td>женат / замужем</td>\n",
       "      <td>0</td>\n",
       "      <td>M</td>\n",
       "      <td>компаньон</td>\n",
       "      <td>0</td>\n",
       "      <td>113943.491460</td>\n",
       "      <td>покупка недвижимости</td>\n",
       "    </tr>\n",
       "    <tr>\n",
       "      <th>11</th>\n",
       "      <td>0</td>\n",
       "      <td>-792.701887</td>\n",
       "      <td>40</td>\n",
       "      <td>среднее</td>\n",
       "      <td>1</td>\n",
       "      <td>женат / замужем</td>\n",
       "      <td>0</td>\n",
       "      <td>F</td>\n",
       "      <td>сотрудник</td>\n",
       "      <td>0</td>\n",
       "      <td>77069.234271</td>\n",
       "      <td>покупка коммерческой недвижимости</td>\n",
       "    </tr>\n",
       "    <tr>\n",
       "      <th>12</th>\n",
       "      <td>0</td>\n",
       "      <td>NaN</td>\n",
       "      <td>65</td>\n",
       "      <td>среднее</td>\n",
       "      <td>1</td>\n",
       "      <td>гражданский брак</td>\n",
       "      <td>1</td>\n",
       "      <td>M</td>\n",
       "      <td>пенсионер</td>\n",
       "      <td>0</td>\n",
       "      <td>NaN</td>\n",
       "      <td>сыграть свадьбу</td>\n",
       "    </tr>\n",
       "    <tr>\n",
       "      <th>13</th>\n",
       "      <td>0</td>\n",
       "      <td>-1846.641941</td>\n",
       "      <td>54</td>\n",
       "      <td>неоконченное высшее</td>\n",
       "      <td>2</td>\n",
       "      <td>женат / замужем</td>\n",
       "      <td>0</td>\n",
       "      <td>F</td>\n",
       "      <td>сотрудник</td>\n",
       "      <td>0</td>\n",
       "      <td>130458.228857</td>\n",
       "      <td>приобретение автомобиля</td>\n",
       "    </tr>\n",
       "    <tr>\n",
       "      <th>14</th>\n",
       "      <td>0</td>\n",
       "      <td>-1844.956182</td>\n",
       "      <td>56</td>\n",
       "      <td>высшее</td>\n",
       "      <td>0</td>\n",
       "      <td>гражданский брак</td>\n",
       "      <td>1</td>\n",
       "      <td>F</td>\n",
       "      <td>компаньон</td>\n",
       "      <td>1</td>\n",
       "      <td>165127.911772</td>\n",
       "      <td>покупка жилой недвижимости</td>\n",
       "    </tr>\n",
       "    <tr>\n",
       "      <th>15</th>\n",
       "      <td>1</td>\n",
       "      <td>-972.364419</td>\n",
       "      <td>26</td>\n",
       "      <td>среднее</td>\n",
       "      <td>1</td>\n",
       "      <td>женат / замужем</td>\n",
       "      <td>0</td>\n",
       "      <td>F</td>\n",
       "      <td>сотрудник</td>\n",
       "      <td>0</td>\n",
       "      <td>116820.904450</td>\n",
       "      <td>строительство собственной недвижимости</td>\n",
       "    </tr>\n",
       "    <tr>\n",
       "      <th>16</th>\n",
       "      <td>0</td>\n",
       "      <td>-1719.934226</td>\n",
       "      <td>35</td>\n",
       "      <td>среднее</td>\n",
       "      <td>1</td>\n",
       "      <td>женат / замужем</td>\n",
       "      <td>0</td>\n",
       "      <td>F</td>\n",
       "      <td>сотрудник</td>\n",
       "      <td>0</td>\n",
       "      <td>289202.704229</td>\n",
       "      <td>недвижимость</td>\n",
       "    </tr>\n",
       "    <tr>\n",
       "      <th>17</th>\n",
       "      <td>0</td>\n",
       "      <td>-2369.999720</td>\n",
       "      <td>33</td>\n",
       "      <td>высшее</td>\n",
       "      <td>0</td>\n",
       "      <td>гражданский брак</td>\n",
       "      <td>1</td>\n",
       "      <td>M</td>\n",
       "      <td>сотрудник</td>\n",
       "      <td>0</td>\n",
       "      <td>90410.586745</td>\n",
       "      <td>строительство недвижимости</td>\n",
       "    </tr>\n",
       "    <tr>\n",
       "      <th>18</th>\n",
       "      <td>0</td>\n",
       "      <td>400281.136913</td>\n",
       "      <td>53</td>\n",
       "      <td>среднее</td>\n",
       "      <td>1</td>\n",
       "      <td>вдовец / вдова</td>\n",
       "      <td>2</td>\n",
       "      <td>F</td>\n",
       "      <td>пенсионер</td>\n",
       "      <td>0</td>\n",
       "      <td>56823.777243</td>\n",
       "      <td>на покупку подержанного автомобиля</td>\n",
       "    </tr>\n",
       "    <tr>\n",
       "      <th>19</th>\n",
       "      <td>0</td>\n",
       "      <td>-10038.818549</td>\n",
       "      <td>48</td>\n",
       "      <td>СРЕДНЕЕ</td>\n",
       "      <td>1</td>\n",
       "      <td>в разводе</td>\n",
       "      <td>3</td>\n",
       "      <td>F</td>\n",
       "      <td>сотрудник</td>\n",
       "      <td>0</td>\n",
       "      <td>242831.107982</td>\n",
       "      <td>на покупку своего автомобиля</td>\n",
       "    </tr>\n",
       "  </tbody>\n",
       "</table>\n",
       "</div>"
      ],
      "text/plain": [
       "    children  days_employed  dob_years            education  education_id  \\\n",
       "0          1   -8437.673028         42               высшее             0   \n",
       "1          1   -4024.803754         36              среднее             1   \n",
       "2          0   -5623.422610         33              Среднее             1   \n",
       "3          3   -4124.747207         32              среднее             1   \n",
       "4          0  340266.072047         53              среднее             1   \n",
       "5          0    -926.185831         27               высшее             0   \n",
       "6          0   -2879.202052         43               высшее             0   \n",
       "7          0    -152.779569         50              СРЕДНЕЕ             1   \n",
       "8          2   -6929.865299         35               ВЫСШЕЕ             0   \n",
       "9          0   -2188.756445         41              среднее             1   \n",
       "10         2   -4171.483647         36               высшее             0   \n",
       "11         0    -792.701887         40              среднее             1   \n",
       "12         0            NaN         65              среднее             1   \n",
       "13         0   -1846.641941         54  неоконченное высшее             2   \n",
       "14         0   -1844.956182         56               высшее             0   \n",
       "15         1    -972.364419         26              среднее             1   \n",
       "16         0   -1719.934226         35              среднее             1   \n",
       "17         0   -2369.999720         33               высшее             0   \n",
       "18         0  400281.136913         53              среднее             1   \n",
       "19         0  -10038.818549         48              СРЕДНЕЕ             1   \n",
       "\n",
       "       family_status  family_status_id gender income_type  debt  \\\n",
       "0    женат / замужем                 0      F   сотрудник     0   \n",
       "1    женат / замужем                 0      F   сотрудник     0   \n",
       "2    женат / замужем                 0      M   сотрудник     0   \n",
       "3    женат / замужем                 0      M   сотрудник     0   \n",
       "4   гражданский брак                 1      F   пенсионер     0   \n",
       "5   гражданский брак                 1      M   компаньон     0   \n",
       "6    женат / замужем                 0      F   компаньон     0   \n",
       "7    женат / замужем                 0      M   сотрудник     0   \n",
       "8   гражданский брак                 1      F   сотрудник     0   \n",
       "9    женат / замужем                 0      M   сотрудник     0   \n",
       "10   женат / замужем                 0      M   компаньон     0   \n",
       "11   женат / замужем                 0      F   сотрудник     0   \n",
       "12  гражданский брак                 1      M   пенсионер     0   \n",
       "13   женат / замужем                 0      F   сотрудник     0   \n",
       "14  гражданский брак                 1      F   компаньон     1   \n",
       "15   женат / замужем                 0      F   сотрудник     0   \n",
       "16   женат / замужем                 0      F   сотрудник     0   \n",
       "17  гражданский брак                 1      M   сотрудник     0   \n",
       "18    вдовец / вдова                 2      F   пенсионер     0   \n",
       "19         в разводе                 3      F   сотрудник     0   \n",
       "\n",
       "     total_income                                 purpose  \n",
       "0   253875.639453                           покупка жилья  \n",
       "1   112080.014102                 приобретение автомобиля  \n",
       "2   145885.952297                           покупка жилья  \n",
       "3   267628.550329              дополнительное образование  \n",
       "4   158616.077870                         сыграть свадьбу  \n",
       "5   255763.565419                           покупка жилья  \n",
       "6   240525.971920                       операции с жильем  \n",
       "7   135823.934197                             образование  \n",
       "8    95856.832424                   на проведение свадьбы  \n",
       "9   144425.938277                 покупка жилья для семьи  \n",
       "10  113943.491460                    покупка недвижимости  \n",
       "11   77069.234271       покупка коммерческой недвижимости  \n",
       "12            NaN                         сыграть свадьбу  \n",
       "13  130458.228857                 приобретение автомобиля  \n",
       "14  165127.911772              покупка жилой недвижимости  \n",
       "15  116820.904450  строительство собственной недвижимости  \n",
       "16  289202.704229                            недвижимость  \n",
       "17   90410.586745              строительство недвижимости  \n",
       "18   56823.777243      на покупку подержанного автомобиля  \n",
       "19  242831.107982            на покупку своего автомобиля  "
      ]
     },
     "execution_count": 2,
     "metadata": {},
     "output_type": "execute_result"
    }
   ],
   "source": [
    "data.head(20)"
   ]
  },
  {
   "cell_type": "markdown",
   "id": "16f18b66",
   "metadata": {
    "deletable": false,
    "editable": false,
    "id": "1c12e233"
   },
   "source": [
    "**Задание 3. Выведите основную информацию о датафрейме с помощью метода `info()`.**"
   ]
  },
  {
   "cell_type": "code",
   "execution_count": 3,
   "id": "13eabfff",
   "metadata": {
    "deletable": false,
    "id": "2b757bca",
    "outputId": "15376089-8dad-46c9-b520-c05248d43158"
   },
   "outputs": [
    {
     "name": "stdout",
     "output_type": "stream",
     "text": [
      "<class 'pandas.core.frame.DataFrame'>\n",
      "RangeIndex: 21525 entries, 0 to 21524\n",
      "Data columns (total 12 columns):\n",
      " #   Column            Non-Null Count  Dtype  \n",
      "---  ------            --------------  -----  \n",
      " 0   children          21525 non-null  int64  \n",
      " 1   days_employed     19351 non-null  float64\n",
      " 2   dob_years         21525 non-null  int64  \n",
      " 3   education         21525 non-null  object \n",
      " 4   education_id      21525 non-null  int64  \n",
      " 5   family_status     21525 non-null  object \n",
      " 6   family_status_id  21525 non-null  int64  \n",
      " 7   gender            21525 non-null  object \n",
      " 8   income_type       21525 non-null  object \n",
      " 9   debt              21525 non-null  int64  \n",
      " 10  total_income      19351 non-null  float64\n",
      " 11  purpose           21525 non-null  object \n",
      "dtypes: float64(2), int64(5), object(5)\n",
      "memory usage: 2.0+ MB\n"
     ]
    }
   ],
   "source": [
    "data.info()"
   ]
  },
  {
   "cell_type": "markdown",
   "id": "1700abaa",
   "metadata": {},
   "source": [
    "<div class=\"alert alert-block alert-success\">\n",
    "<b>Комментарий ревьюера:</b> \n",
    "\n",
    "✔️ Также в последствии можно использовать метод describe(), он показывает некоторые статистические данные, в общем тоже полезный метод https://www.javatpoint.com/pandas-dataframe-describe#:~:text=The%20describe()%20method%20is,sets%20of%20mixed%20data%20types.\n",
    "  </div>"
   ]
  },
  {
   "cell_type": "markdown",
   "id": "8bf8d725",
   "metadata": {
    "deletable": false,
    "editable": false,
    "id": "333ec665"
   },
   "source": [
    "## Предобработка данных"
   ]
  },
  {
   "cell_type": "markdown",
   "id": "a392456e",
   "metadata": {
    "deletable": false,
    "editable": false,
    "id": "02d92d53"
   },
   "source": [
    "### Удаление пропусков"
   ]
  },
  {
   "cell_type": "markdown",
   "id": "5fbdce10",
   "metadata": {
    "deletable": false,
    "editable": false,
    "id": "cd84967c"
   },
   "source": [
    "**Задание 4. Выведите количество пропущенных значений для каждого столбца. Используйте комбинацию двух методов.**"
   ]
  },
  {
   "cell_type": "code",
   "execution_count": 4,
   "id": "6a4e53b5",
   "metadata": {
    "deletable": false,
    "id": "7f9b2309",
    "outputId": "81f4d817-781c-465c-ed15-91ce4446810d"
   },
   "outputs": [
    {
     "data": {
      "text/plain": [
       "children               0\n",
       "days_employed       2174\n",
       "dob_years              0\n",
       "education              0\n",
       "education_id           0\n",
       "family_status          0\n",
       "family_status_id       0\n",
       "gender                 0\n",
       "income_type            0\n",
       "debt                   0\n",
       "total_income        2174\n",
       "purpose                0\n",
       "dtype: int64"
      ]
     },
     "execution_count": 4,
     "metadata": {},
     "output_type": "execute_result"
    }
   ],
   "source": [
    "data.isna().sum()"
   ]
  },
  {
   "cell_type": "markdown",
   "id": "4b6c18fc",
   "metadata": {},
   "source": [
    "<div class=\"alert alert-block alert-success\">\n",
    "<b>Комментарий ревьюера:</b>\n",
    "\n",
    "✔️ Изучить долю пропущенных пропусков можно еще с помощью `data.isna().mean()*100`\n",
    "  </div>"
   ]
  },
  {
   "cell_type": "markdown",
   "id": "bd37bd2f",
   "metadata": {
    "deletable": false,
    "editable": false,
    "id": "db86e27b"
   },
   "source": [
    "**Задание 5. В двух столбцах есть пропущенные значения. Один из них — `days_employed`. Пропуски в этом столбце вы обработаете на следующем этапе. Другой столбец с пропущенными значениями — `total_income` — хранит данные о доходах. На сумму дохода сильнее всего влияет тип занятости, поэтому заполнить пропуски в этом столбце нужно медианным значением по каждому типу из столбца `income_type`. Например, у человека с типом занятости `сотрудник` пропуск в столбце `total_income` должен быть заполнен медианным доходом среди всех записей с тем же типом.**"
   ]
  },
  {
   "cell_type": "code",
   "execution_count": 5,
   "id": "8d09a51e",
   "metadata": {
    "deletable": false,
    "id": "42006a93"
   },
   "outputs": [],
   "source": [
    "for t in data['income_type'].unique():\n",
    "    #data.loc[(data['income_type'] == t) & (data['total_income'].isna()), 'total_income'] = \\\n",
    "    #data.loc[(data['income_type'] == t), 'total_income'].median()\n",
    "    data['total_income'] = data['total_income'].fillna(data.groupby(['income_type'])['total_income'].transform('median'))    "
   ]
  },
  {
   "cell_type": "markdown",
   "id": "aac92343",
   "metadata": {},
   "source": [
    "<div class=\"alert alert-block alert-success\">\n",
    "<b>Комментарий ревьюера:</b>\n",
    "\n",
    " ✔️  Можно также использовать следующую конструкцию `data['total_income'] = data['total_income'].fillna(data.groupby(['income_type'])['total_income'].transform('median'))`\n",
    "Функция transform() в принципе полезная https://pandas.pydata.org/pandas-docs/stable/reference/api/pandas.DataFrame.transform.html\n",
    "  </div>"
   ]
  },
  {
   "cell_type": "markdown",
   "id": "42cc0efd",
   "metadata": {
    "deletable": false,
    "editable": false,
    "id": "89da5ece"
   },
   "source": [
    "### Обработка аномальных значений"
   ]
  },
  {
   "cell_type": "markdown",
   "id": "5e8d5c47",
   "metadata": {
    "deletable": false,
    "editable": false,
    "id": "57964554"
   },
   "source": [
    "**Задание 6. В данных могут встречаться артефакты (аномалии) — значения, которые не отражают действительность и появились по какой-то ошибке. таким артефактом будет отрицательное количество дней трудового стажа в столбце `days_employed`. Для реальных данных это нормально. Обработайте значения в этом столбце: замените все отрицательные значения положительными с помощью метода `abs()`.**"
   ]
  },
  {
   "cell_type": "code",
   "execution_count": 6,
   "id": "2a5b6d21",
   "metadata": {
    "deletable": false,
    "id": "f6f055bf"
   },
   "outputs": [],
   "source": [
    "data['days_employed'] = data['days_employed'].abs()"
   ]
  },
  {
   "cell_type": "markdown",
   "id": "2bce635a",
   "metadata": {
    "deletable": false,
    "editable": false,
    "id": "6107dd2f"
   },
   "source": [
    "**Задание 7. Для каждого типа занятости выведите медианное значение трудового стажа `days_employed` в днях.**"
   ]
  },
  {
   "cell_type": "code",
   "execution_count": 7,
   "id": "928b48c7",
   "metadata": {
    "deletable": false,
    "id": "85a5faf6",
    "outputId": "801ef80e-522b-4668-f34e-565af7432bcf"
   },
   "outputs": [
    {
     "data": {
      "text/plain": [
       "income_type\n",
       "безработный        366413.652744\n",
       "в декрете            3296.759962\n",
       "госслужащий          2689.368353\n",
       "компаньон            1547.382223\n",
       "пенсионер          365213.306266\n",
       "предприниматель       520.848083\n",
       "сотрудник            1574.202821\n",
       "студент               578.751554\n",
       "Name: days_employed, dtype: float64"
      ]
     },
     "execution_count": 7,
     "metadata": {},
     "output_type": "execute_result"
    }
   ],
   "source": [
    "data.groupby('income_type')['days_employed'].agg('median')"
   ]
  },
  {
   "cell_type": "markdown",
   "id": "b1262af0",
   "metadata": {
    "deletable": false,
    "editable": false,
    "id": "38d1a030"
   },
   "source": [
    "У двух типов (безработные и пенсионеры) получатся аномально большие значения. Исправить такие значения сложно, поэтому оставьте их как есть. Тем более этот столбец не понадобится вам для исследования."
   ]
  },
  {
   "cell_type": "markdown",
   "id": "754255ff",
   "metadata": {
    "deletable": false,
    "editable": false,
    "id": "d8a9f147"
   },
   "source": [
    "**Задание 8. Выведите перечень уникальных значений столбца `children`.**"
   ]
  },
  {
   "cell_type": "code",
   "execution_count": 8,
   "id": "9e2ca9bf",
   "metadata": {
    "deletable": false,
    "id": "ef5056eb",
    "outputId": "6975b15c-7f95-4697-d16d-a0c79b657b03"
   },
   "outputs": [
    {
     "data": {
      "text/plain": [
       "array([ 1,  0,  3,  2, -1,  4, 20,  5], dtype=int64)"
      ]
     },
     "execution_count": 8,
     "metadata": {},
     "output_type": "execute_result"
    }
   ],
   "source": [
    "data['children'].unique()"
   ]
  },
  {
   "cell_type": "markdown",
   "id": "1389ba0c",
   "metadata": {
    "deletable": false,
    "editable": false,
    "id": "40b9ebf2"
   },
   "source": [
    "**Задание 9. В столбце `children` есть два аномальных значения. Удалите строки, в которых встречаются такие аномальные значения из датафрейма `data`.**"
   ]
  },
  {
   "cell_type": "code",
   "execution_count": 9,
   "id": "5ce9b54e",
   "metadata": {
    "deletable": false,
    "id": "3ff9801d"
   },
   "outputs": [],
   "source": [
    "data = data[(data['children'] != -1) & (data['children'] != 20)]"
   ]
  },
  {
   "cell_type": "markdown",
   "id": "0c466f8e",
   "metadata": {},
   "source": [
    "<div class=\"alert alert-block alert-success\">\n",
    "<b>Комментарий ревьюера:</b>\n",
    "\n",
    " ✔️  Все верно, можно еще использовать query(), который позволяет работать с нужными данными) https://pandas.pydata.org/pandas-docs/stable/reference/api/pandas.DataFrame.query.html\n",
    "  </div>"
   ]
  },
  {
   "cell_type": "markdown",
   "id": "a9c6ee58",
   "metadata": {
    "deletable": false,
    "editable": false,
    "id": "bbc4d0ce"
   },
   "source": [
    "**Задание 10. Ещё раз выведите перечень уникальных значений столбца `children`, чтобы убедиться, что артефакты удалены.**"
   ]
  },
  {
   "cell_type": "code",
   "execution_count": 10,
   "id": "fa1d7f58",
   "metadata": {
    "deletable": false,
    "id": "ad4fa8b7",
    "outputId": "b2097101-d49d-44d9-901b-32a65c9463d1"
   },
   "outputs": [
    {
     "data": {
      "text/plain": [
       "array([1, 0, 3, 2, 4, 5], dtype=int64)"
      ]
     },
     "execution_count": 10,
     "metadata": {},
     "output_type": "execute_result"
    }
   ],
   "source": [
    "data['children'].unique()"
   ]
  },
  {
   "cell_type": "markdown",
   "id": "997cd9c4",
   "metadata": {
    "deletable": false,
    "editable": false,
    "id": "75440b63"
   },
   "source": [
    "### Удаление пропусков (продолжение)"
   ]
  },
  {
   "cell_type": "markdown",
   "id": "acaa83bb",
   "metadata": {
    "deletable": false,
    "editable": false,
    "id": "f4ea573f"
   },
   "source": [
    "**Задание 11. Заполните пропуски в столбце `days_employed` медианными значениями по каждого типа занятости `income_type`.**"
   ]
  },
  {
   "cell_type": "code",
   "execution_count": 11,
   "id": "51e607ca",
   "metadata": {
    "deletable": false,
    "id": "af6b1a7e"
   },
   "outputs": [],
   "source": [
    "for t in data['income_type'].unique():\n",
    "    data.loc[(data['income_type'] == t) & (data['days_employed'].isna()), 'days_employed'] = \\\n",
    "    data.loc[(data['income_type'] == t), 'days_employed'].median()"
   ]
  },
  {
   "cell_type": "markdown",
   "id": "33e2f9f8",
   "metadata": {
    "deletable": false,
    "editable": false,
    "id": "2753f40d"
   },
   "source": [
    "**Задание 12. Убедитесь, что все пропуски заполнены. Проверьте себя и ещё раз выведите количество пропущенных значений для каждого столбца с помощью двух методов.**"
   ]
  },
  {
   "cell_type": "code",
   "execution_count": 12,
   "id": "c324c052",
   "metadata": {
    "deletable": false,
    "id": "55f78bc2",
    "outputId": "8da1e4e1-358e-4e87-98c9-f261bce0a7b2"
   },
   "outputs": [
    {
     "data": {
      "text/plain": [
       "children            0\n",
       "days_employed       0\n",
       "dob_years           0\n",
       "education           0\n",
       "education_id        0\n",
       "family_status       0\n",
       "family_status_id    0\n",
       "gender              0\n",
       "income_type         0\n",
       "debt                0\n",
       "total_income        0\n",
       "purpose             0\n",
       "dtype: int64"
      ]
     },
     "execution_count": 12,
     "metadata": {},
     "output_type": "execute_result"
    }
   ],
   "source": [
    "data.isna().sum()"
   ]
  },
  {
   "cell_type": "markdown",
   "id": "a65034b5",
   "metadata": {
    "deletable": false,
    "editable": false,
    "id": "ddc81e43"
   },
   "source": [
    "### Изменение типов данных"
   ]
  },
  {
   "cell_type": "markdown",
   "id": "84d93c09",
   "metadata": {
    "deletable": false,
    "editable": false,
    "id": "42d19d24"
   },
   "source": [
    "**Задание 13. Замените вещественный тип данных в столбце `total_income` на целочисленный с помощью метода `astype()`.**"
   ]
  },
  {
   "cell_type": "code",
   "execution_count": 13,
   "id": "d3745c76",
   "metadata": {
    "deletable": false,
    "id": "920b65ad"
   },
   "outputs": [],
   "source": [
    "data['total_income'] = data['total_income'].astype(int)"
   ]
  },
  {
   "cell_type": "markdown",
   "id": "6c4987c4",
   "metadata": {
    "deletable": false,
    "editable": false,
    "id": "80c420ba"
   },
   "source": [
    "### Обработка дубликатов"
   ]
  },
  {
   "cell_type": "markdown",
   "id": "613400f5",
   "metadata": {
    "deletable": false,
    "editable": false
   },
   "source": [
    "**Задание 14. Обработайте неявные дубликаты в столбце `education`. В этом столбце есть одни и те же значения, но записанные по-разному: с использованием заглавных и строчных букв. Приведите их к нижнему регистру. Проверьте остальные столбцы.**"
   ]
  },
  {
   "cell_type": "code",
   "execution_count": 14,
   "id": "b718194e",
   "metadata": {
    "deletable": false
   },
   "outputs": [],
   "source": [
    "data['education'] = data['education'].str.lower()"
   ]
  },
  {
   "cell_type": "markdown",
   "id": "eaf7939f",
   "metadata": {
    "deletable": false,
    "editable": false,
    "id": "dc587695"
   },
   "source": [
    "**Задание 15. Выведите на экран количество строк-дубликатов в данных. Если такие строки присутствуют, удалите их.**"
   ]
  },
  {
   "cell_type": "code",
   "execution_count": 15,
   "id": "e79c74b3",
   "metadata": {
    "deletable": false,
    "id": "3ee445e4",
    "outputId": "9684deba-1934-42d1-99e1-cda61740f822"
   },
   "outputs": [
    {
     "data": {
      "text/plain": [
       "71"
      ]
     },
     "execution_count": 15,
     "metadata": {},
     "output_type": "execute_result"
    }
   ],
   "source": [
    "data.duplicated().sum()"
   ]
  },
  {
   "cell_type": "code",
   "execution_count": 16,
   "id": "674bdbe9",
   "metadata": {
    "deletable": false,
    "id": "8575fe05"
   },
   "outputs": [],
   "source": [
    "data = data.drop_duplicates()"
   ]
  },
  {
   "cell_type": "markdown",
   "id": "56de65e1",
   "metadata": {},
   "source": [
    "<div class=\"alert alert-block alert-success\">\n",
    "<b>Комментарий ревьюера:</b>\n",
    "\n",
    "✔️  От дубликатов избавился, молодец)\n",
    "  </div>"
   ]
  },
  {
   "cell_type": "markdown",
   "id": "56e0eeaf",
   "metadata": {
    "deletable": false,
    "editable": false,
    "id": "9904cf55"
   },
   "source": [
    "### Категоризация данных"
   ]
  },
  {
   "cell_type": "markdown",
   "id": "8aefa0fa",
   "metadata": {
    "deletable": false,
    "editable": false,
    "id": "72fcc8a2"
   },
   "source": [
    "**Задание 16. На основании диапазонов, указанных ниже, создайте в датафрейме `data` столбец `total_income_category` с категориями:**\n",
    "\n",
    "- 0–30000 — `'E'`;\n",
    "- 30001–50000 — `'D'`;\n",
    "- 50001–200000 — `'C'`;\n",
    "- 200001–1000000 — `'B'`;\n",
    "- 1000001 и выше — `'A'`.\n",
    "\n",
    "\n",
    "**Например, кредитополучателю с доходом 25000 нужно назначить категорию `'E'`, а клиенту, получающему 235000, — `'B'`. Используйте собственную функцию с именем `categorize_income()` и метод `apply()`.**"
   ]
  },
  {
   "cell_type": "code",
   "execution_count": 17,
   "id": "0aa2894a",
   "metadata": {
    "deletable": false,
    "id": "e1771346"
   },
   "outputs": [],
   "source": [
    "def categorize_income(income):\n",
    "    try:\n",
    "        if 0 <= income <= 30000:\n",
    "            return 'E'\n",
    "        elif 30001 <= income <= 50000:\n",
    "            return 'D'\n",
    "        elif 50001 <= income <= 200000:\n",
    "            return 'C'\n",
    "        elif 200001 <= income <= 1000000:\n",
    "            return 'B'\n",
    "        elif income >= 1000001:\n",
    "            return 'A'\n",
    "    except:\n",
    "        pass"
   ]
  },
  {
   "cell_type": "code",
   "execution_count": 18,
   "id": "2a5c699b",
   "metadata": {
    "deletable": false,
    "id": "d5f3586d"
   },
   "outputs": [],
   "source": [
    "data['total_income_category'] = data['total_income'].apply(categorize_income)"
   ]
  },
  {
   "cell_type": "markdown",
   "id": "e83c49c6",
   "metadata": {},
   "source": [
    "<div class=\"alert alert-block alert-success\">\n",
    "<b>Комментарий ревьюера:</b>\n",
    "\n",
    "✔️  Функцию написал правильную, молодец, но применение функции лучше проверять с помощью `value_counts`, вдруг какое то условие не сработало)\n",
    "\n",
    "  </div>"
   ]
  },
  {
   "cell_type": "markdown",
   "id": "264c2cc4",
   "metadata": {
    "deletable": false,
    "editable": false,
    "id": "dde49b5c"
   },
   "source": [
    "**Задание 17. Выведите на экран перечень уникальных целей взятия кредита из столбца `purpose`.**"
   ]
  },
  {
   "cell_type": "code",
   "execution_count": 19,
   "id": "2a540d2f",
   "metadata": {
    "deletable": false,
    "id": "f67ce9b3",
    "outputId": "673c12d9-7d7e-4ae0-9812-c622c89dd244"
   },
   "outputs": [
    {
     "data": {
      "text/plain": [
       "array(['покупка жилья', 'приобретение автомобиля',\n",
       "       'дополнительное образование', 'сыграть свадьбу',\n",
       "       'операции с жильем', 'образование', 'на проведение свадьбы',\n",
       "       'покупка жилья для семьи', 'покупка недвижимости',\n",
       "       'покупка коммерческой недвижимости', 'покупка жилой недвижимости',\n",
       "       'строительство собственной недвижимости', 'недвижимость',\n",
       "       'строительство недвижимости', 'на покупку подержанного автомобиля',\n",
       "       'на покупку своего автомобиля',\n",
       "       'операции с коммерческой недвижимостью',\n",
       "       'строительство жилой недвижимости', 'жилье',\n",
       "       'операции со своей недвижимостью', 'автомобили',\n",
       "       'заняться образованием', 'сделка с подержанным автомобилем',\n",
       "       'получение образования', 'автомобиль', 'свадьба',\n",
       "       'получение дополнительного образования', 'покупка своего жилья',\n",
       "       'операции с недвижимостью', 'получение высшего образования',\n",
       "       'свой автомобиль', 'сделка с автомобилем',\n",
       "       'профильное образование', 'высшее образование',\n",
       "       'покупка жилья для сдачи', 'на покупку автомобиля', 'ремонт жилью',\n",
       "       'заняться высшим образованием'], dtype=object)"
      ]
     },
     "execution_count": 19,
     "metadata": {},
     "output_type": "execute_result"
    }
   ],
   "source": [
    "data['purpose'].unique()"
   ]
  },
  {
   "cell_type": "markdown",
   "id": "dc65b624",
   "metadata": {
    "deletable": false,
    "editable": false,
    "id": "85d0aef0"
   },
   "source": [
    "**Задание 18. Создайте функцию, которая на основании данных из столбца `purpose` сформирует новый столбец `purpose_category`, в который войдут следующие категории:**\n",
    "\n",
    "- `'операции с автомобилем'`,\n",
    "- `'операции с недвижимостью'`,\n",
    "- `'проведение свадьбы'`,\n",
    "- `'получение образования'`.\n",
    "\n",
    "**Например, если в столбце `purpose` находится подстрока `'на покупку автомобиля'`, то в столбце `purpose_category` должна появиться строка `'операции с автомобилем'`.**\n",
    "\n",
    "**Используйте собственную функцию с именем `categorize_purpose()` и метод `apply()`. Изучите данные в столбце `purpose` и определите, какие подстроки помогут вам правильно определить категорию.**"
   ]
  },
  {
   "cell_type": "code",
   "execution_count": 20,
   "id": "6ccd6ea3",
   "metadata": {
    "deletable": false,
    "id": "e149fab4"
   },
   "outputs": [],
   "source": [
    "def categorize_purpose(row):\n",
    "    try:\n",
    "        if 'автом' in row:\n",
    "            return 'операции с автомобилем'\n",
    "        elif 'жил' in row or 'недвиж' in row:\n",
    "            return 'операции с недвижимостью'\n",
    "        elif 'свад' in row:\n",
    "            return 'проведение свадьбы'\n",
    "        elif 'образов' in row:\n",
    "            return 'получение образования'\n",
    "    except:\n",
    "        return 'нет категории'"
   ]
  },
  {
   "cell_type": "code",
   "execution_count": 21,
   "id": "a4bcda98",
   "metadata": {
    "deletable": false,
    "id": "bf36e69b"
   },
   "outputs": [],
   "source": [
    "data['purpose_category'] = data['purpose'].apply(categorize_purpose)"
   ]
  },
  {
   "cell_type": "markdown",
   "id": "39856b20",
   "metadata": {},
   "source": [
    "<div class=\"alert alert-block alert-success\">\n",
    "<b>Комментарий ревьюера:</b>\n",
    "\n",
    "✔️ Здесь порядок, но лучше проверять всегда работает ли функция))\n",
    "  </div>"
   ]
  },
  {
   "cell_type": "markdown",
   "id": "c95a3258",
   "metadata": {
    "deletable": false,
    "editable": false,
    "id": "09b242bf"
   },
   "source": [
    "### Шаг 3. Исследуйте данные и ответьте на вопросы"
   ]
  },
  {
   "cell_type": "markdown",
   "id": "2d7c4dac",
   "metadata": {
    "deletable": false,
    "editable": false,
    "id": "c5d66278"
   },
   "source": [
    "#### 3.1 Есть ли зависимость между количеством детей и возвратом кредита в срок?"
   ]
  },
  {
   "cell_type": "code",
   "execution_count": 22,
   "id": "7d2df7c4",
   "metadata": {
    "deletable": false,
    "id": "2cacfc4a"
   },
   "outputs": [],
   "source": [
    "#распределим клиентов по категориям в зависимости от количества детей\n",
    "def categorize_children(child):\n",
    "    try:\n",
    "        if child == 0:\n",
    "            return 'бездетный'     \n",
    "        elif child == 1:\n",
    "            return 'один ребенок'\n",
    "        elif child == 2:\n",
    "            return 'двое детей'\n",
    "        elif child >= 3:\n",
    "            return 'многодетный'\n",
    "    except:\n",
    "        pass"
   ]
  },
  {
   "cell_type": "code",
   "execution_count": 23,
   "id": "c12d3e28",
   "metadata": {},
   "outputs": [],
   "source": [
    "#создаем отдельный столбец с категориями, и записываем значения, возвращаемые функцией\n",
    "data['children_category'] = data['children'].apply(categorize_children)"
   ]
  },
  {
   "cell_type": "code",
   "execution_count": 24,
   "id": "463be19d",
   "metadata": {
    "scrolled": true
   },
   "outputs": [
    {
     "data": {
      "text/html": [
       "<style type=\"text/css\">\n",
       "</style>\n",
       "<table id=\"T_c6def\">\n",
       "  <thead>\n",
       "    <tr>\n",
       "      <th class=\"blank level0\" >&nbsp;</th>\n",
       "      <th id=\"T_c6def_level0_col0\" class=\"col_heading level0 col0\" >children_category</th>\n",
       "      <th id=\"T_c6def_level0_col1\" class=\"col_heading level0 col1\" >count</th>\n",
       "      <th id=\"T_c6def_level0_col2\" class=\"col_heading level0 col2\" >sum</th>\n",
       "      <th id=\"T_c6def_level0_col3\" class=\"col_heading level0 col3\" >mean</th>\n",
       "    </tr>\n",
       "  </thead>\n",
       "  <tbody>\n",
       "    <tr>\n",
       "      <th id=\"T_c6def_level0_row0\" class=\"row_heading level0 row0\" >1</th>\n",
       "      <td id=\"T_c6def_row0_col0\" class=\"data row0 col0\" >двое детей</td>\n",
       "      <td id=\"T_c6def_row0_col1\" class=\"data row0 col1\" >2052</td>\n",
       "      <td id=\"T_c6def_row0_col2\" class=\"data row0 col2\" >194</td>\n",
       "      <td id=\"T_c6def_row0_col3\" class=\"data row0 col3\" >9.5%</td>\n",
       "    </tr>\n",
       "    <tr>\n",
       "      <th id=\"T_c6def_level0_row1\" class=\"row_heading level0 row1\" >3</th>\n",
       "      <td id=\"T_c6def_row1_col0\" class=\"data row1 col0\" >один ребенок</td>\n",
       "      <td id=\"T_c6def_row1_col1\" class=\"data row1 col1\" >4808</td>\n",
       "      <td id=\"T_c6def_row1_col2\" class=\"data row1 col2\" >444</td>\n",
       "      <td id=\"T_c6def_row1_col3\" class=\"data row1 col3\" >9.2%</td>\n",
       "    </tr>\n",
       "    <tr>\n",
       "      <th id=\"T_c6def_level0_row2\" class=\"row_heading level0 row2\" >2</th>\n",
       "      <td id=\"T_c6def_row2_col0\" class=\"data row2 col0\" >многодетный</td>\n",
       "      <td id=\"T_c6def_row2_col1\" class=\"data row2 col1\" >380</td>\n",
       "      <td id=\"T_c6def_row2_col2\" class=\"data row2 col2\" >31</td>\n",
       "      <td id=\"T_c6def_row2_col3\" class=\"data row2 col3\" >8.2%</td>\n",
       "    </tr>\n",
       "    <tr>\n",
       "      <th id=\"T_c6def_level0_row3\" class=\"row_heading level0 row3\" >0</th>\n",
       "      <td id=\"T_c6def_row3_col0\" class=\"data row3 col0\" >бездетный</td>\n",
       "      <td id=\"T_c6def_row3_col1\" class=\"data row3 col1\" >14091</td>\n",
       "      <td id=\"T_c6def_row3_col2\" class=\"data row3 col2\" >1063</td>\n",
       "      <td id=\"T_c6def_row3_col3\" class=\"data row3 col3\" >7.5%</td>\n",
       "    </tr>\n",
       "  </tbody>\n",
       "</table>\n"
      ],
      "text/plain": [
       "<pandas.io.formats.style.Styler at 0x151eeda7ad0>"
      ]
     },
     "execution_count": 24,
     "metadata": {},
     "output_type": "execute_result"
    }
   ],
   "source": [
    "#групируем по столбцу и применяем агрегирующую функцию, затем сортируем по убыванию и добавляем форматирование\n",
    "data.groupby(['children_category']).agg({'debt': ('count', 'sum', 'mean')}).droplevel(0, axis=1).reset_index().sort_values('mean', ascending=False).style.format({'mean': '{:.1%}'})"
   ]
  },
  {
   "cell_type": "markdown",
   "id": "916ad19f",
   "metadata": {},
   "source": [
    "<div class=\"alert alert-block alert-warning\">\n",
    "<b>Комментарий ревьюер:</b> \n",
    "\n",
    "⚠️ По таблице нет вопросов, но что можно улучшить (это касается изучение всех взаимосвязей). Для красоты лучше избавляться от мультииндексов, убери один уровень с помощью `droplevel(0, axis=1)`, а затем сбрось все значения с помощью `reset_index()`\n",
    "    \n"
   ]
  },
  {
   "cell_type": "markdown",
   "id": "a0a49680",
   "metadata": {
    "deletable": false,
    "id": "3a6b99ec"
   },
   "source": [
    "**Вывод:** \n",
    "в результате проведения финансового анализа, по коэффициентам, имеющим четкие числовые критерии, экспертным путем присвоено распределение по категориям, представленное в таблице. как видно по таблице, в структуре просроченных кредитов преобладают заемщики категории 'двое детей' и 'один ребенок', что составило 9,5% и 9,2% соотвественно, а также в совокупности категориий их доля составила около 32%; \n",
    "доля просрочек для заемщиков категории 'бездетный' составила 7,5%, что можно оценить как наименьшую вероятность нарушения условий кредитования, при этом их доля, в совокупности категориий, составила 66%;\n",
    "долю просрочек для заемщиков категории 'многодетный' можно проигнорировать, в связи с небольшой выборкой;"
   ]
  },
  {
   "cell_type": "code",
   "execution_count": 25,
   "id": "a58f28f7",
   "metadata": {},
   "outputs": [
    {
     "ename": "SyntaxError",
     "evalue": "invalid character '❌' (U+274C) (1171778124.py, line 4)",
     "output_type": "error",
     "traceback": [
      "\u001b[1;36m  Cell \u001b[1;32mIn[25], line 4\u001b[1;36m\u001b[0m\n\u001b[1;33m    ❌ Не бойся использовать в выводах цифры. Акцент должен был сделать на сбалансированности выборок. Примерно выводы будут выглядеть так:\u001b[0m\n\u001b[1;37m    ^\u001b[0m\n\u001b[1;31mSyntaxError\u001b[0m\u001b[1;31m:\u001b[0m invalid character '❌' (U+274C)\n"
     ]
    }
   ],
   "source": [
    "<div class=\"alert alert-block alert-danger\">\n",
    "<b>Комментарий ревьюера:</b> \n",
    "\n",
    "❌ Не бойся использовать в выводах цифры. Акцент должен был сделать на сбалансированности выборок. Примерно выводы будут выглядеть так: \n",
    "`люди, которые не имеют детей, лучше всего отдают кредит, доля должников здесь составляет с 7,5%, хуже обстоит дело с кредиторами, кто имеет одного или двух детей, здесь доля невозврата составляет соответственно 9,2% и 9,4%. Остальные категории уже некорректно сравнивать, так как в них очень маленькая выборка`)) <br>\n"
   ]
  },
  {
   "cell_type": "markdown",
   "id": "3234042a",
   "metadata": {
    "deletable": false,
    "editable": false,
    "id": "97be82ca"
   },
   "source": [
    "#### 3.2 Есть ли зависимость между семейным положением и возвратом кредита в срок?"
   ]
  },
  {
   "cell_type": "code",
   "execution_count": null,
   "id": "e0998fab",
   "metadata": {
    "deletable": false,
    "id": "dc3f7ee8",
    "scrolled": true
   },
   "outputs": [],
   "source": [
    "#групируем по столбцу и применяем агрегирующую функцию, затем сортируем по убыванию и добавляем форматирование\n",
    "data.groupby(['family_status']).agg({'debt': ('count', 'sum', 'mean')}).droplevel(0, axis=1).reset_index().sort_values('mean', ascending=False).style.format({'mean': '{:.1%}'})"
   ]
  },
  {
   "cell_type": "markdown",
   "id": "851bc892",
   "metadata": {
    "deletable": false,
    "id": "1cef7837"
   },
   "source": [
    "**Вывод:** по результатам исследования видно, что в структуре просроченных кредитов преобладают заемщики категории 'Не женат/не замужем' и 'гражданский брак', что составило 9,8% и 9,3% соотвественно, и в совокупности категорий их доля составила около 32%; \n",
    "для заемщиков самой многочисленной категории 'женат/замужем' доля просрочек составила 7,6%, что можно оценить как наименьшую вероятность риска, в совокупности категорий их доля составила около 47%;\n",
    "долю просрочек для заемщиков категории 'в разводе' и 'вдовец / вдова' можно проигнорировать, в связи с небольшой выборкой;"
   ]
  },
  {
   "cell_type": "markdown",
   "id": "43b5b5a0",
   "metadata": {},
   "source": [
    "<div class=\"alert alert-block alert-danger\">\n",
    "<b>Комментарий ревьюера:</b> \n",
    "\n",
    "❌ Над выводами надо поработать)) \n"
   ]
  },
  {
   "cell_type": "markdown",
   "id": "701ef52a",
   "metadata": {
    "deletable": false,
    "editable": false,
    "id": "1e8b2fca"
   },
   "source": [
    "#### 3.3 Есть ли зависимость между уровнем дохода и возвратом кредита в срок?"
   ]
  },
  {
   "cell_type": "code",
   "execution_count": null,
   "id": "9ac50b41",
   "metadata": {},
   "outputs": [],
   "source": [
    "#распределим клиентов по категориям в зависимости от дохода\n",
    "#def categorize_income(worker):\n",
    "    #try:\n",
    "        #if worker <= 100000:\n",
    "            #return 'низкий, до 100 т.р.'     \n",
    "        #elif 100001 <= worker <= 150000:\n",
    "            #return 'средний, до 150 т.р.'\n",
    "        #elif 150001 <= worker <= 200000:\n",
    "            #return 'высокий, до 200 т.р.'\n",
    "        #elif worker > 200001:\n",
    "            #return 'абсолютный, свыше 200 т.р.'\n",
    "    #except:\n",
    "        #pass"
   ]
  },
  {
   "cell_type": "markdown",
   "id": "0f622895",
   "metadata": {},
   "source": [
    "<div class=\"alert alert-block alert-warning\">\n",
    "<b>Комментарий ревьюер:</b> \n",
    "\n",
    "⚠️ Так уже делал разбивку по доходам, зачем еще делать одну?)) \n",
    "    \n"
   ]
  },
  {
   "cell_type": "code",
   "execution_count": null,
   "id": "9a72c03b",
   "metadata": {
    "deletable": false,
    "id": "cd7e3720"
   },
   "outputs": [],
   "source": [
    "#извлекаем данные определенных колонок\n",
    "income_level = data.loc[:,['income_type','total_income', 'debt']]"
   ]
  },
  {
   "cell_type": "code",
   "execution_count": null,
   "id": "c6fbbcf0",
   "metadata": {},
   "outputs": [],
   "source": [
    "#создаем отдельный столбец с категориями, и записываем значения, возвращаемые функцией\n",
    "income_level['income_category'] = income_level['total_income'].apply(categorize_income)"
   ]
  },
  {
   "cell_type": "code",
   "execution_count": null,
   "id": "003498af",
   "metadata": {},
   "outputs": [],
   "source": [
    "#групируем по столбцу и применяем агрегирующую функцию, затем сортируем по убыванию и добавляем форматирование\n",
    "income_level.groupby(['income_category']).agg({'debt': ('count', 'sum', 'mean')}).droplevel(0, axis=1).reset_index().sort_values('mean', ascending=False).style.format({'mean': '{:.1%}'})"
   ]
  },
  {
   "cell_type": "markdown",
   "id": "9b3e9a74",
   "metadata": {
    "deletable": false,
    "id": "e8593def"
   },
   "source": [
    "**Вывод:** на основании присвоенных диапазонов данных, для анализа можно выделить две категории заемщиков, имевшие наибольшую вероятность нарушение графика платежей по кредиту, а именно категоия 'C' с доходами до 200 т.р., что структуре просроченных кредитов составило 8,5% и в совокупности категорий ее доля составила около 75%;\n",
    "и категория 'B' с доходами свыше 200 т.р., что структуре просроченных кредитов составило 7,1% и в совокупности категорий ее доля составила около 24%;"
   ]
  },
  {
   "cell_type": "markdown",
   "id": "47d5ae95",
   "metadata": {},
   "source": [
    "<div class=\"alert alert-block alert-danger\">\n",
    "<b>Комментарий ревьюера:</b> \n",
    "\n",
    "❌ По разбивке, которую делал выше, можно сравнить только две группы B и С)) "
   ]
  },
  {
   "cell_type": "markdown",
   "id": "d2749979",
   "metadata": {
    "deletable": false,
    "editable": false,
    "id": "99ecbd1f"
   },
   "source": [
    "#### 3.4 Как разные цели кредита влияют на его возврат в срок?"
   ]
  },
  {
   "cell_type": "code",
   "execution_count": null,
   "id": "30f63d9f",
   "metadata": {
    "deletable": false,
    "id": "2b687290"
   },
   "outputs": [],
   "source": [
    "#групируем по столбцу и применяем агрегирующую функцию, затем сортируем по убыванию и добавляем форматирование\n",
    "data.groupby(['purpose_category']).agg({'debt': ('count', 'sum', 'mean')}).droplevel(0, axis=1).reset_index().sort_values('mean', ascending=False).style.format({'mean': '{:.1%}'})"
   ]
  },
  {
   "cell_type": "markdown",
   "id": "e986b2bb",
   "metadata": {
    "deletable": false,
    "id": "b4bb2ce6"
   },
   "source": [
    "**Вывод:** по результатам исследования можно выделить наиболее многочисленную категорию с наименьшей вероятностью риска просрочки, а именно 'операции с недвижимостью', что в структуре просроченных кредитов составила 7,3% и в совокупности категорий 50%, преимущества кредитования недвижимости заключаются в том, что процентные ставки по ипотечным кредитам гораздо ниже, чем по другим видам кредитных ресурсов, помимо этого они фиксируются на достаточно длительный период, при этом объектом залога выступает недвижимость, в результате чего наблюдается более высокий уровень платежной дисциплины;\n",
    "еще одна категория с наименьшей вероятностью риска просрочки это 'проведение свадьбы', что структуре просроченных кредитов составило 7,9% и в совокупности категорий ее доля составила около 11%, поженились, гости денег надарили, кредит погасили, все просто;\n",
    "наибольшая вероятность риска просрочки выявлена в двух категориях 'операции с автомобилем' и 'получение образования', что составило 9,3% и 9,3% соотвественно, и в совокупности категориий их доля составила около 39%, что обусловлено низким уровнем стимуляции отвествеености определенной части заемщиков;"
   ]
  },
  {
   "cell_type": "markdown",
   "id": "d0ae9e5c",
   "metadata": {},
   "source": [
    "<div class=\"alert alert-block alert-danger\">\n",
    "<b>Комментарий ревьюера:</b> \n",
    "\n",
    "❌ В выводах здесь можно обосновать почему самые надежные кредиторы те, кто берет ипотеку?)) Плюс везде добавить цифр)) "
   ]
  },
  {
   "cell_type": "markdown",
   "id": "c235b501",
   "metadata": {
    "deletable": false,
    "editable": false,
    "id": "09c3ac4c"
   },
   "source": [
    "#### 3.5 Приведите возможные причины появления пропусков в исходных данных."
   ]
  },
  {
   "cell_type": "markdown",
   "id": "f5eccde3",
   "metadata": {
    "deletable": false,
    "id": "9da2ceda"
   },
   "source": [
    "*Ответ:* возможно во время копирования или изменения формата;\n",
    "тогда только человеческий фактор)"
   ]
  },
  {
   "cell_type": "markdown",
   "id": "805dab74",
   "metadata": {},
   "source": [
    "<div class=\"alert alert-block alert-warning\">\n",
    "<b>Комментарий ревьюера:</b> \n",
    "\n",
    "⚠️ А если абстрагироваться от этих данных, то какая может быть причина)) "
   ]
  },
  {
   "cell_type": "markdown",
   "id": "4453e6ca",
   "metadata": {
    "deletable": false,
    "editable": false,
    "id": "7b0487d6"
   },
   "source": [
    "#### 3.6 Объясните, почему заполнить пропуски медианным значением — лучшее решение для количественных переменных."
   ]
  },
  {
   "cell_type": "markdown",
   "id": "1dfa578f",
   "metadata": {
    "deletable": false,
    "id": "7ecf2b8e"
   },
   "source": [
    "*Ответ:* когда распределение асимметрично или имеет выбросы, медианное значение является наиболее обоснованным"
   ]
  },
  {
   "cell_type": "markdown",
   "id": "dc19b2b9",
   "metadata": {},
   "source": [
    "<div class=\"alert alert-block alert-success\">\n",
    "<b>Комментарий ревьюера:</b>\n",
    "\n",
    "✔️ Ответ правильный, на среднее влияют очень сильно выбросы)) \n",
    "  </div>"
   ]
  },
  {
   "cell_type": "markdown",
   "id": "90e424b0",
   "metadata": {
    "deletable": false,
    "editable": false,
    "id": "6db5255a"
   },
   "source": [
    "### Шаг 4: общий вывод."
   ]
  },
  {
   "cell_type": "markdown",
   "id": "961b2a85",
   "metadata": {
    "deletable": false,
    "id": "bad65432"
   },
   "source": [
    "\n",
    "Следует отметить, что предоставление кредитов клиентам третьего класса\n",
    "связано для банка с серьезным риском."
   ]
  },
  {
   "cell_type": "markdown",
   "id": "3d73981c",
   "metadata": {},
   "source": [
    "<div class=\"alert alert-block alert-danger\">\n",
    "<b>Комментарий ревьюера:</b> \n",
    "\n",
    "❌ В выводах уже не используем код, структура выводов следующая:\n",
    "- Отвечаешь на вопрос \"Есть ли зависимость между количеством детей и возвратом кредита в срок?\"\n",
    "- Отвечаешь на вопрос  \"Есть ли зависимость между семейным положением и возвратом кредита в срок?\"\n",
    "- Отвечаешь на вопрос  \"Есть ли зависимость между уровнем дохода и возвратом кредита в срок?\"\n",
    "- Отвечаешь на вопрос  \"Как разные цели кредита влияют на его возврат в срок?\"\n",
    "- Даешь рекомендацией банку по улучшению сбора данных и скоринга.\n",
    "\n",
    "Общий вывод - резюме этой работы. Большинство заказчиков посмотрят сначала его (а некоторые только его). Чтобы выводы не огорошивали заказчика своей очевидностью, стоит добавить в них цифр, всяких корреляций, процентов итд :) Сделай так, чтобы вся найденная в данных информация была отражена в выводе))"
   ]
  },
  {
   "cell_type": "markdown",
   "id": "76d93b9f",
   "metadata": {},
   "source": [
    "<div class=\"alert alert-block alert-success\">\n",
    "<b>Комментарий ревьюера:</b>\n",
    "    \n",
    "Константин, отлично поработал, видно что умеешь работать с кодом, надо будет оптимизировать везде код и поработать над выводами)) \n",
    "<br> Жду исправленного варианта)\n",
    "  </div>"
   ]
  }
 ],
 "metadata": {
  "ExecuteTimeLog": [
   {
    "duration": 723,
    "start_time": "2023-01-24T10:27:46.299Z"
   },
   {
    "duration": 21,
    "start_time": "2023-01-24T10:27:47.362Z"
   },
   {
    "duration": 16,
    "start_time": "2023-01-24T10:27:47.761Z"
   },
   {
    "duration": 10,
    "start_time": "2023-01-24T10:27:48.498Z"
   },
   {
    "duration": 31,
    "start_time": "2023-01-24T10:27:48.854Z"
   },
   {
    "duration": 4,
    "start_time": "2023-01-24T10:27:49.456Z"
   },
   {
    "duration": 9,
    "start_time": "2023-01-24T10:27:49.814Z"
   },
   {
    "duration": 5,
    "start_time": "2023-01-24T10:27:50.359Z"
   },
   {
    "duration": 8,
    "start_time": "2023-01-24T10:27:50.717Z"
   },
   {
    "duration": 5,
    "start_time": "2023-01-24T10:27:51.136Z"
   },
   {
    "duration": 32,
    "start_time": "2023-01-24T10:27:52.668Z"
   },
   {
    "duration": 10,
    "start_time": "2023-01-24T10:27:53.474Z"
   },
   {
    "duration": 4,
    "start_time": "2023-01-24T10:27:54.154Z"
   },
   {
    "duration": 11,
    "start_time": "2023-01-24T10:27:55.306Z"
   },
   {
    "duration": 20,
    "start_time": "2023-01-24T10:27:57.019Z"
   },
   {
    "duration": 18,
    "start_time": "2023-01-24T10:27:57.875Z"
   },
   {
    "duration": 3,
    "start_time": "2023-01-24T10:28:00.254Z"
   },
   {
    "duration": 10,
    "start_time": "2023-01-24T10:28:01.183Z"
   },
   {
    "duration": 7,
    "start_time": "2023-01-24T10:28:03.072Z"
   },
   {
    "duration": 4,
    "start_time": "2023-01-24T10:28:05.486Z"
   },
   {
    "duration": 9,
    "start_time": "2023-01-24T10:28:07.954Z"
   },
   {
    "duration": 11,
    "start_time": "2023-01-25T10:17:06.369Z"
   },
   {
    "duration": 42,
    "start_time": "2023-01-25T10:17:31.498Z"
   },
   {
    "duration": 479,
    "start_time": "2023-01-25T10:18:43.363Z"
   },
   {
    "duration": 21,
    "start_time": "2023-01-25T10:18:43.844Z"
   },
   {
    "duration": 15,
    "start_time": "2023-01-25T10:18:43.980Z"
   },
   {
    "duration": 10,
    "start_time": "2023-01-25T10:18:44.623Z"
   },
   {
    "duration": 32,
    "start_time": "2023-01-25T10:18:44.936Z"
   },
   {
    "duration": 4,
    "start_time": "2023-01-25T10:18:45.434Z"
   },
   {
    "duration": 8,
    "start_time": "2023-01-25T10:18:45.762Z"
   },
   {
    "duration": 5,
    "start_time": "2023-01-25T10:18:46.248Z"
   },
   {
    "duration": 6,
    "start_time": "2023-01-25T10:18:46.552Z"
   },
   {
    "duration": 5,
    "start_time": "2023-01-25T10:18:47.847Z"
   },
   {
    "duration": 33,
    "start_time": "2023-01-25T10:18:49.890Z"
   },
   {
    "duration": 8,
    "start_time": "2023-01-25T10:18:50.237Z"
   },
   {
    "duration": 4,
    "start_time": "2023-01-25T10:18:53.431Z"
   },
   {
    "duration": 11,
    "start_time": "2023-01-25T10:18:54.856Z"
   },
   {
    "duration": 19,
    "start_time": "2023-01-25T10:18:55.229Z"
   },
   {
    "duration": 17,
    "start_time": "2023-01-25T10:18:55.360Z"
   },
   {
    "duration": 4,
    "start_time": "2023-01-25T10:18:57.781Z"
   },
   {
    "duration": 10,
    "start_time": "2023-01-25T10:18:57.959Z"
   },
   {
    "duration": 8,
    "start_time": "2023-01-25T10:18:59.237Z"
   },
   {
    "duration": 3,
    "start_time": "2023-01-25T10:19:00.565Z"
   },
   {
    "duration": 10,
    "start_time": "2023-01-25T10:19:02.639Z"
   },
   {
    "duration": 3,
    "start_time": "2023-01-25T10:19:19.966Z"
   },
   {
    "duration": 29,
    "start_time": "2023-01-25T10:19:21.107Z"
   },
   {
    "duration": 11,
    "start_time": "2023-01-25T10:20:09.662Z"
   },
   {
    "duration": 3,
    "start_time": "2023-01-25T10:20:12.770Z"
   },
   {
    "duration": 8,
    "start_time": "2023-01-25T10:20:15.834Z"
   },
   {
    "duration": 75,
    "start_time": "2023-01-25T10:33:26.413Z"
   },
   {
    "duration": 4,
    "start_time": "2023-01-25T10:35:41.060Z"
   },
   {
    "duration": 7,
    "start_time": "2023-01-25T10:35:41.844Z"
   },
   {
    "duration": 27,
    "start_time": "2023-01-25T10:35:44.296Z"
   },
   {
    "duration": 27,
    "start_time": "2023-01-25T10:36:18.685Z"
   },
   {
    "duration": 24,
    "start_time": "2023-01-25T10:36:56.205Z"
   },
   {
    "duration": 7,
    "start_time": "2023-01-25T10:37:20.213Z"
   },
   {
    "duration": 29,
    "start_time": "2023-01-25T10:37:57.827Z"
   },
   {
    "duration": 28,
    "start_time": "2023-01-25T10:38:42.701Z"
   },
   {
    "duration": 25,
    "start_time": "2023-01-25T10:43:03.392Z"
   },
   {
    "duration": 27,
    "start_time": "2023-01-25T10:47:48.719Z"
   },
   {
    "duration": 27,
    "start_time": "2023-01-25T10:48:39.469Z"
   },
   {
    "duration": 72,
    "start_time": "2023-01-25T10:49:19.063Z"
   },
   {
    "duration": 71,
    "start_time": "2023-01-25T10:50:21.253Z"
   },
   {
    "duration": 74,
    "start_time": "2023-01-25T10:50:45.540Z"
   },
   {
    "duration": 25,
    "start_time": "2023-01-25T10:51:03.069Z"
   },
   {
    "duration": 73,
    "start_time": "2023-01-25T10:53:01.212Z"
   },
   {
    "duration": 34,
    "start_time": "2023-01-25T10:54:10.373Z"
   },
   {
    "duration": 31,
    "start_time": "2023-01-25T10:54:45.487Z"
   },
   {
    "duration": 29,
    "start_time": "2023-01-25T10:55:30.818Z"
   },
   {
    "duration": 92,
    "start_time": "2023-01-25T10:55:46.667Z"
   },
   {
    "duration": 28,
    "start_time": "2023-01-25T10:56:04.664Z"
   },
   {
    "duration": 707,
    "start_time": "2023-01-25T10:57:25.613Z"
   },
   {
    "duration": 686,
    "start_time": "2023-01-25T10:57:58.155Z"
   },
   {
    "duration": 8,
    "start_time": "2023-01-25T10:58:39.911Z"
   },
   {
    "duration": 8,
    "start_time": "2023-01-25T10:59:18.536Z"
   },
   {
    "duration": 26,
    "start_time": "2023-01-25T10:59:26.702Z"
   },
   {
    "duration": 500,
    "start_time": "2023-01-25T12:13:51.680Z"
   },
   {
    "duration": 526,
    "start_time": "2023-01-26T05:27:00.868Z"
   },
   {
    "duration": 62,
    "start_time": "2023-01-26T05:28:10.274Z"
   },
   {
    "duration": 8,
    "start_time": "2023-01-26T05:28:26.860Z"
   },
   {
    "duration": 9,
    "start_time": "2023-01-26T05:28:28.140Z"
   },
   {
    "duration": 65,
    "start_time": "2023-01-26T05:28:34.419Z"
   },
   {
    "duration": 7,
    "start_time": "2023-01-26T05:28:44.117Z"
   },
   {
    "duration": 3,
    "start_time": "2023-01-26T05:28:49.237Z"
   },
   {
    "duration": 6,
    "start_time": "2023-01-26T05:28:51.905Z"
   },
   {
    "duration": 24,
    "start_time": "2023-01-26T05:28:53.190Z"
   },
   {
    "duration": 48,
    "start_time": "2023-01-26T08:18:19.793Z"
   },
   {
    "duration": 9,
    "start_time": "2023-01-26T08:42:06.184Z"
   },
   {
    "duration": 13,
    "start_time": "2023-01-26T09:34:43.051Z"
   },
   {
    "duration": 9,
    "start_time": "2023-01-26T09:34:59.226Z"
   },
   {
    "duration": 12,
    "start_time": "2023-01-26T09:52:34.609Z"
   },
   {
    "duration": 15,
    "start_time": "2023-01-26T10:53:34.660Z"
   },
   {
    "duration": 546,
    "start_time": "2023-01-26T15:15:36.929Z"
   },
   {
    "duration": 23,
    "start_time": "2023-01-26T15:16:11.146Z"
   },
   {
    "duration": 15,
    "start_time": "2023-01-26T15:16:37.014Z"
   },
   {
    "duration": 22,
    "start_time": "2023-01-26T16:35:08.378Z"
   },
   {
    "duration": 558,
    "start_time": "2023-01-27T08:30:56.309Z"
   },
   {
    "duration": 104,
    "start_time": "2023-01-27T15:54:25.104Z"
   },
   {
    "duration": 708,
    "start_time": "2023-01-27T15:54:37.202Z"
   },
   {
    "duration": 77,
    "start_time": "2023-01-27T15:55:04.554Z"
   },
   {
    "duration": 6,
    "start_time": "2023-01-27T15:55:13.483Z"
   },
   {
    "duration": 67,
    "start_time": "2023-01-27T15:55:46.284Z"
   },
   {
    "duration": 3,
    "start_time": "2023-01-27T15:56:32.101Z"
   },
   {
    "duration": 4,
    "start_time": "2023-01-27T15:56:32.732Z"
   },
   {
    "duration": 12,
    "start_time": "2023-01-27T15:56:33.357Z"
   },
   {
    "duration": 19,
    "start_time": "2023-01-27T16:01:08.140Z"
   },
   {
    "duration": 12,
    "start_time": "2023-01-27T16:07:18.150Z"
   },
   {
    "duration": 13,
    "start_time": "2023-01-27T16:07:25.545Z"
   },
   {
    "duration": 13,
    "start_time": "2023-01-27T16:07:57.638Z"
   },
   {
    "duration": 12,
    "start_time": "2023-01-27T16:08:48.345Z"
   },
   {
    "duration": 14,
    "start_time": "2023-01-27T16:08:55.572Z"
   },
   {
    "duration": 7,
    "start_time": "2023-01-27T16:22:22.012Z"
   },
   {
    "duration": 4,
    "start_time": "2023-01-27T16:22:25.486Z"
   },
   {
    "duration": 9,
    "start_time": "2023-01-27T16:22:26.141Z"
   },
   {
    "duration": 11,
    "start_time": "2023-01-27T16:23:51.622Z"
   },
   {
    "duration": 12,
    "start_time": "2023-01-27T16:32:41.640Z"
   },
   {
    "duration": 3,
    "start_time": "2023-01-27T16:32:50.107Z"
   },
   {
    "duration": 7,
    "start_time": "2023-01-27T16:32:50.606Z"
   },
   {
    "duration": 16,
    "start_time": "2023-01-27T16:32:51.420Z"
   },
   {
    "duration": 4,
    "start_time": "2023-01-27T16:33:23.610Z"
   },
   {
    "duration": 11,
    "start_time": "2023-01-27T16:33:59.046Z"
   },
   {
    "duration": 18,
    "start_time": "2023-01-27T16:34:24.067Z"
   },
   {
    "duration": 82,
    "start_time": "2023-01-27T16:34:41.521Z"
   },
   {
    "duration": 77,
    "start_time": "2023-01-27T16:34:51.495Z"
   },
   {
    "duration": 15,
    "start_time": "2023-01-27T16:34:57.904Z"
   },
   {
    "duration": 14,
    "start_time": "2023-01-27T16:35:12.982Z"
   },
   {
    "duration": 713,
    "start_time": "2023-01-29T15:02:15.660Z"
   },
   {
    "duration": 31,
    "start_time": "2023-01-29T15:02:57.753Z"
   },
   {
    "duration": 23,
    "start_time": "2023-01-29T15:02:58.155Z"
   },
   {
    "duration": 10,
    "start_time": "2023-01-29T15:02:58.946Z"
   },
   {
    "duration": 36,
    "start_time": "2023-01-29T15:03:00.389Z"
   },
   {
    "duration": 4,
    "start_time": "2023-01-29T15:03:01.065Z"
   },
   {
    "duration": 8,
    "start_time": "2023-01-29T15:03:02.160Z"
   },
   {
    "duration": 4,
    "start_time": "2023-01-29T15:03:11.339Z"
   },
   {
    "duration": 7,
    "start_time": "2023-01-29T15:03:17.172Z"
   },
   {
    "duration": 5,
    "start_time": "2023-01-29T15:03:19.089Z"
   },
   {
    "duration": 40,
    "start_time": "2023-01-29T15:03:21.151Z"
   },
   {
    "duration": 10,
    "start_time": "2023-01-29T15:03:21.741Z"
   },
   {
    "duration": 4,
    "start_time": "2023-01-29T15:03:24.966Z"
   },
   {
    "duration": 13,
    "start_time": "2023-01-29T15:03:26.545Z"
   },
   {
    "duration": 25,
    "start_time": "2023-01-29T15:03:30.257Z"
   },
   {
    "duration": 17,
    "start_time": "2023-01-29T15:03:31.496Z"
   },
   {
    "duration": 4,
    "start_time": "2023-01-29T15:03:33.786Z"
   },
   {
    "duration": 10,
    "start_time": "2023-01-29T15:03:34.016Z"
   },
   {
    "duration": 5,
    "start_time": "2023-01-29T15:03:39.775Z"
   },
   {
    "duration": 3,
    "start_time": "2023-01-29T15:03:47.254Z"
   },
   {
    "duration": 11,
    "start_time": "2023-01-29T15:03:48.139Z"
   },
   {
    "duration": 61,
    "start_time": "2023-01-29T15:05:46.152Z"
   },
   {
    "duration": 3,
    "start_time": "2023-01-29T15:05:51.045Z"
   },
   {
    "duration": 7,
    "start_time": "2023-01-29T15:05:51.911Z"
   },
   {
    "duration": 434,
    "start_time": "2023-01-29T15:05:53.208Z"
   },
   {
    "duration": 14,
    "start_time": "2023-01-29T15:06:57.992Z"
   },
   {
    "duration": 3,
    "start_time": "2023-01-29T15:07:16.664Z"
   },
   {
    "duration": 19,
    "start_time": "2023-01-29T15:07:35.448Z"
   },
   {
    "duration": 3,
    "start_time": "2023-01-29T15:07:38.103Z"
   },
   {
    "duration": 11,
    "start_time": "2023-01-29T15:07:38.640Z"
   },
   {
    "duration": 10,
    "start_time": "2023-01-29T15:07:39.179Z"
   },
   {
    "duration": 14,
    "start_time": "2023-01-29T15:07:40.093Z"
   },
   {
    "duration": 15,
    "start_time": "2023-01-29T15:09:00.286Z"
   },
   {
    "duration": 21,
    "start_time": "2023-01-29T15:09:21.660Z"
   },
   {
    "duration": 15,
    "start_time": "2023-01-29T15:09:48.983Z"
   },
   {
    "duration": 14,
    "start_time": "2023-01-29T15:10:22.259Z"
   },
   {
    "duration": 14,
    "start_time": "2023-01-29T15:10:31.371Z"
   },
   {
    "duration": 18,
    "start_time": "2023-01-29T15:10:48.716Z"
   },
   {
    "duration": 16,
    "start_time": "2023-01-29T15:13:35.889Z"
   },
   {
    "duration": 3,
    "start_time": "2023-01-29T15:21:59.868Z"
   },
   {
    "duration": 4,
    "start_time": "2023-01-29T15:22:00.620Z"
   },
   {
    "duration": 10,
    "start_time": "2023-01-29T15:22:01.326Z"
   },
   {
    "duration": 15,
    "start_time": "2023-01-29T15:22:06.095Z"
   },
   {
    "duration": 3,
    "start_time": "2023-01-29T15:23:52.260Z"
   },
   {
    "duration": 5,
    "start_time": "2023-01-29T15:23:52.800Z"
   },
   {
    "duration": 10,
    "start_time": "2023-01-29T15:23:53.547Z"
   },
   {
    "duration": 20,
    "start_time": "2023-01-29T15:24:19.071Z"
   },
   {
    "duration": 19,
    "start_time": "2023-01-29T15:24:37.870Z"
   },
   {
    "duration": 13,
    "start_time": "2023-01-29T15:24:56.873Z"
   },
   {
    "duration": 20,
    "start_time": "2023-01-29T15:44:36.875Z"
   },
   {
    "duration": 17,
    "start_time": "2023-01-29T16:17:17.008Z"
   },
   {
    "duration": 14,
    "start_time": "2023-01-29T16:17:29.254Z"
   },
   {
    "duration": 15,
    "start_time": "2023-01-29T16:19:38.965Z"
   },
   {
    "duration": 17,
    "start_time": "2023-01-29T16:19:55.072Z"
   },
   {
    "duration": 16,
    "start_time": "2023-01-29T16:20:20.999Z"
   },
   {
    "duration": 14,
    "start_time": "2023-01-29T16:20:32.959Z"
   },
   {
    "duration": 15,
    "start_time": "2023-01-29T16:27:07.203Z"
   },
   {
    "duration": 15,
    "start_time": "2023-01-29T16:27:24.789Z"
   },
   {
    "duration": 676,
    "start_time": "2023-01-29T18:37:15.325Z"
   },
   {
    "duration": 23,
    "start_time": "2023-01-29T18:37:16.003Z"
   },
   {
    "duration": 24,
    "start_time": "2023-01-29T18:37:16.072Z"
   },
   {
    "duration": 23,
    "start_time": "2023-01-29T18:37:16.770Z"
   },
   {
    "duration": 65,
    "start_time": "2023-01-29T18:37:17.128Z"
   },
   {
    "duration": 9,
    "start_time": "2023-01-29T18:37:17.672Z"
   },
   {
    "duration": 11,
    "start_time": "2023-01-29T18:37:18.069Z"
   },
   {
    "duration": 5,
    "start_time": "2023-01-29T18:37:18.636Z"
   },
   {
    "duration": 9,
    "start_time": "2023-01-29T18:37:19.001Z"
   },
   {
    "duration": 9,
    "start_time": "2023-01-29T18:37:19.350Z"
   },
   {
    "duration": 35,
    "start_time": "2023-01-29T18:37:19.890Z"
   },
   {
    "duration": 13,
    "start_time": "2023-01-29T18:37:20.283Z"
   },
   {
    "duration": 5,
    "start_time": "2023-01-29T18:37:20.883Z"
   },
   {
    "duration": 23,
    "start_time": "2023-01-29T18:37:21.449Z"
   },
   {
    "duration": 49,
    "start_time": "2023-01-29T18:37:21.823Z"
   },
   {
    "duration": 17,
    "start_time": "2023-01-29T18:37:21.991Z"
   },
   {
    "duration": 4,
    "start_time": "2023-01-29T18:37:22.527Z"
   },
   {
    "duration": 12,
    "start_time": "2023-01-29T18:37:22.727Z"
   },
   {
    "duration": 6,
    "start_time": "2023-01-29T18:37:23.121Z"
   },
   {
    "duration": 3,
    "start_time": "2023-01-29T18:37:23.720Z"
   },
   {
    "duration": 9,
    "start_time": "2023-01-29T18:37:23.923Z"
   },
   {
    "duration": 3,
    "start_time": "2023-01-29T18:37:24.528Z"
   },
   {
    "duration": 11,
    "start_time": "2023-01-29T18:37:24.733Z"
   },
   {
    "duration": 589,
    "start_time": "2023-01-29T18:37:24.935Z"
   },
   {
    "duration": 13,
    "start_time": "2023-01-29T18:37:27.624Z"
   },
   {
    "duration": 16,
    "start_time": "2023-01-29T18:37:30.539Z"
   },
   {
    "duration": 16,
    "start_time": "2023-01-29T18:37:31.328Z"
   },
   {
    "duration": 10,
    "start_time": "2023-01-29T18:37:31.919Z"
   },
   {
    "duration": 18,
    "start_time": "2023-01-29T18:37:32.690Z"
   },
   {
    "duration": 21,
    "start_time": "2023-01-29T18:37:35.127Z"
   },
   {
    "duration": 23,
    "start_time": "2023-01-29T18:45:27.920Z"
   },
   {
    "duration": 83,
    "start_time": "2023-01-29T18:47:23.131Z"
   },
   {
    "duration": 5,
    "start_time": "2023-01-29T18:47:43.573Z"
   },
   {
    "duration": 9,
    "start_time": "2023-01-29T18:47:44.112Z"
   },
   {
    "duration": 29,
    "start_time": "2023-01-29T18:47:44.923Z"
   },
   {
    "duration": 28,
    "start_time": "2023-01-29T18:48:33.285Z"
   },
   {
    "duration": 14,
    "start_time": "2023-01-29T18:49:16.787Z"
   },
   {
    "duration": 4,
    "start_time": "2023-01-29T18:49:21.479Z"
   },
   {
    "duration": 4,
    "start_time": "2023-01-29T18:49:22.080Z"
   },
   {
    "duration": 10,
    "start_time": "2023-01-29T18:49:22.530Z"
   },
   {
    "duration": 16,
    "start_time": "2023-01-29T18:49:23.655Z"
   },
   {
    "duration": 21,
    "start_time": "2023-01-29T18:49:30.561Z"
   },
   {
    "duration": 22,
    "start_time": "2023-01-29T19:06:18.933Z"
   },
   {
    "duration": 16,
    "start_time": "2023-01-29T19:06:53.192Z"
   },
   {
    "duration": 481,
    "start_time": "2023-01-30T13:26:51.756Z"
   },
   {
    "duration": 26,
    "start_time": "2023-01-30T13:26:52.239Z"
   },
   {
    "duration": 29,
    "start_time": "2023-01-30T13:26:52.267Z"
   },
   {
    "duration": 10,
    "start_time": "2023-01-30T13:26:52.299Z"
   },
   {
    "duration": 39,
    "start_time": "2023-01-30T13:26:52.311Z"
   },
   {
    "duration": 4,
    "start_time": "2023-01-30T13:26:52.353Z"
   },
   {
    "duration": 25,
    "start_time": "2023-01-30T13:26:52.359Z"
   },
   {
    "duration": 11,
    "start_time": "2023-01-30T13:26:52.387Z"
   },
   {
    "duration": 22,
    "start_time": "2023-01-30T13:26:52.401Z"
   },
   {
    "duration": 6,
    "start_time": "2023-01-30T13:26:52.427Z"
   },
   {
    "duration": 58,
    "start_time": "2023-01-30T13:26:52.435Z"
   },
   {
    "duration": 10,
    "start_time": "2023-01-30T13:26:52.495Z"
   },
   {
    "duration": 17,
    "start_time": "2023-01-30T13:26:52.507Z"
   },
   {
    "duration": 23,
    "start_time": "2023-01-30T13:26:52.526Z"
   },
   {
    "duration": 34,
    "start_time": "2023-01-30T13:26:52.551Z"
   },
   {
    "duration": 26,
    "start_time": "2023-01-30T13:26:52.587Z"
   },
   {
    "duration": 5,
    "start_time": "2023-01-30T13:26:52.615Z"
   },
   {
    "duration": 16,
    "start_time": "2023-01-30T13:26:52.622Z"
   },
   {
    "duration": 24,
    "start_time": "2023-01-30T13:26:52.640Z"
   },
   {
    "duration": 21,
    "start_time": "2023-01-30T13:26:52.666Z"
   },
   {
    "duration": 24,
    "start_time": "2023-01-30T13:26:52.690Z"
   },
   {
    "duration": 5,
    "start_time": "2023-01-30T13:26:52.716Z"
   },
   {
    "duration": 19,
    "start_time": "2023-01-30T13:26:52.724Z"
   },
   {
    "duration": 292,
    "start_time": "2023-01-30T13:26:52.745Z"
   },
   {
    "duration": 14,
    "start_time": "2023-01-30T13:26:53.039Z"
   },
   {
    "duration": 9,
    "start_time": "2023-01-30T13:26:53.055Z"
   },
   {
    "duration": 29,
    "start_time": "2023-01-30T13:26:53.065Z"
   },
   {
    "duration": 16,
    "start_time": "2023-01-30T13:26:53.097Z"
   },
   {
    "duration": 18,
    "start_time": "2023-01-30T13:26:53.115Z"
   },
   {
    "duration": 29,
    "start_time": "2023-01-30T13:26:53.134Z"
   }
  ],
  "colab": {
   "name": "dpp_template_part2.ipynb",
   "provenance": []
  },
  "kernelspec": {
   "display_name": "Python 3 (ipykernel)",
   "language": "python",
   "name": "python3"
  },
  "language_info": {
   "codemirror_mode": {
    "name": "ipython",
    "version": 3
   },
   "file_extension": ".py",
   "mimetype": "text/x-python",
   "name": "python",
   "nbconvert_exporter": "python",
   "pygments_lexer": "ipython3",
   "version": "3.11.5"
  },
  "toc": {
   "base_numbering": 1,
   "nav_menu": {},
   "number_sections": true,
   "sideBar": true,
   "skip_h1_title": true,
   "title_cell": "Table of Contents",
   "title_sidebar": "Contents",
   "toc_cell": false,
   "toc_position": {},
   "toc_section_display": true,
   "toc_window_display": false
  }
 },
 "nbformat": 4,
 "nbformat_minor": 5
}
